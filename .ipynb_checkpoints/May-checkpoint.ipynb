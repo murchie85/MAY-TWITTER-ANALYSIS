{
 "cells": [
  {
   "cell_type": "markdown",
   "metadata": {},
   "source": [
    "# MURCHIE85 TWITTER PROCESSING \n",
    "\n",
    "&#x1F34E; **TOPIC = \"Theresa May\"**\n",
    "\n",
    "\n",
    "## AUTOMATED RESEARCH SUMMARY\n",
    "    \n",
    "\n",
    "![image](https://timedotcom.files.wordpress.com/2019/03/theresa-may-brexit-politics.jpg)\n",
    "\n",
    "<br>\n",
    "\n",
    "\n",
    "<div class=\"alert alert-block alert-info\">\n",
    "<b> This repo is for pulling metrics on a given keyword or hashtag and performs a series of reporting and analysis.</b>\n",
    "</div>\n",
    "\n",
    "\n",
    "<br>\n",
    "\n",
    "\n",
    "   \n",
    "![image](TWEETSs.png)\n",
    "    \n",
    "\n",
    "\n",
    "\n",
    "## GOOGLE SEARCH DEMOGRAPHICS \n",
    "\n",
    "Tweeting demographic           | Countries\n",
    ":-------------------------:|:-------------------------:\n",
    "![](map.png)  |  ![](countries.png)\n",
    "<br>\n",
    "## RELATED TOPICS  & QUERIES \n",
    "\n",
    "topics          | searches\n",
    ":-------------------------:|:-------------------------:\n",
    "![](relatedtopics.png)  |  ![](relatedqueries.png)\n",
    "\n",
    "\n",
    "<br>\n",
    "<br>\n",
    "\n",
    "The top most popular words tweeted are :\n",
    "\n",
    "\n",
    "- **May**\n",
    "- **Grenfell**\n",
    "- **Tears**\n",
    "- **Statement**\n",
    "- **Windrush**\n",
    "\n",
    "![image](compare.png)\n",
    "\n",
    "\n",
    "## Twitter Bio Analysis\n",
    "\n",
    "![image](BIO.png)\n",
    "\n",
    "\n",
    "\n",
    "\n",
    "\n",
    "\n",
    "\n",
    "\n",
    "\n",
    "\n",
    "    \n",
    "### SENTIMENT ANALYSIS\n",
    "VIEWS WERE : **SUBJECTIVE**  (30%) & **NEGATIVELY-SUBJECTIVE** (30%) **OBJECTIVE** (40%)\n",
    "\n",
    "\n",
    "\n",
    "### TWEET SAMPLE \n",
    "\n",
    "Random value picked from array: \n",
    "\n",
    "\n",
    "<div class=\"alert alert-block alert-info\">\n",
    "'U.K. Prime Minister Theresa May announced her resignation earlier today. \\n\\n@swajcmanearle wrote about how Boris Joh… https://t.co/j8PXKFeIbO'\n",
    "\n",
    "</div>\n",
    "\n",
    "### MOST RETWEETED\n",
    "\n",
    "Technically the most popular tweet (note, this is not always the source of the hashtag)\n",
    "\n",
    "<div class=\"alert alert-block alert-danger\">\n",
    "<b>@davidschneider (past 24 hours)</b>  Theresa May guide to crying\n",
    "\n",
    "NO TEARS for<br>\n",
    "Grenfell<br>\n",
    "The Windrush generation<br>\n",
    "Deaths and misery caused by the hostile environment, by austerity, by welfare cuts, NHS cuts<br>\n",
    "598 rough sleepers dying on our streets last year<br>\n",
    "4m children in poverty<br>\n",
    "Record food bank use<br>\n",
    "\n",
    "TEARS for<br>\n",
    "Herself\n",
    "</div>\n",
    "\n",
    "\n",
    "\n",
    "### ANALYSIS CRITIQUE\n",
    "\n",
    "<br>\n",
    "\n",
    "WILL BE UPDATED IN NEXT  24 HOURS \n",
    "\n",
    "<br>\n",
    "\n",
    "\n",
    "\n",
    "### CONCLUSION & EXTERNAL ANALYSIS\n",
    "\n",
    "*This is my (Adam McMurchie's) opinion on the data from the tweets, it serves as no objective truth.Since the tweets themselves are a mixture of fact & opinion. \n",
    "\n",
    "<br>\n",
    "\n",
    "WILL BE UPDATED IN NEXT  24 HOURS \n",
    "\n",
    "\n",
    "<br><br>\n",
    "\n",
    "**RECOMMENDATIONS** WILL BE UPDATED IN NEXT  24 HOURS \n",
    "\n",
    "\n",
    "<br>"
   ]
  },
  {
   "cell_type": "markdown",
   "metadata": {},
   "source": [
    "# TECHNICAL WALKTHROUGH \n",
    "\n",
    "\n",
    "## OVERVIEW\n",
    "\n",
    "**SKIP TO BOTTOM FOR FULL RESULTS & GRAPH BREAKDOWN **\n",
    "\n",
    "- Pulls live tweets from all over twitter \n",
    "- Imports Tweepy Library \n",
    "- Consumes Twitter API \n",
    "- Desgined to be keyword driven\n",
    "- All metrics can be captured\n",
    "- No limit on Runtime (best to terminate when you want)\n",
    "\n",
    "## Limitations & info\n",
    "1. LOCATION filter is tricky\n",
    "2. Streaming connects to the “public streams” (all public data) \n",
    "3. This is data provided by the Twitter API which accesses their database, the maintenence of DB and thus data quality is managed by Twitter\n",
    "\n",
    "Example of parameter setting done in stream filter \n",
    "\n",
    "```\n",
    "stream.filter(follow=[\"2211149702\"])\n",
    "```\n",
    "\n",
    "\n",
    "### AUTHOR : ADAM MCMURCHIE \n",
    "\n",
    "![image](https://s3.amazonaws.com/re-work-production/avatars/1104/original.png?1485507466)\n",
    "\n",
    "Github [here](https://github.com/murchie85)  \n",
    "\n",
    "Mysite [here](https://murchie85.github.io/)"
   ]
  },
  {
   "cell_type": "markdown",
   "metadata": {},
   "source": [
    "# AUTHENTICATION\n",
    "\n",
    "You will need to change f variable to point to your credentials file, I save mines in a text file and split the comma. Not uploaded to this repo obviously."
   ]
  },
  {
   "cell_type": "code",
   "execution_count": 3,
   "metadata": {
    "collapsed": true
   },
   "outputs": [],
   "source": [
    "import datetime\n",
    "\n",
    "\n",
    "f = open(\"../donotgit/access.txt\", \"r\")\n",
    "keys = f.read()\n",
    "f.close()\n",
    "keys  = keys.split(',')\n",
    "#print(\"Access Keys are : \" + str(keys))\n",
    "ACCESS_TOKEN = keys[0]\n",
    "ACCESS_SECRET = keys[1]\n",
    "\n",
    "\n",
    "f = open(\"../donotgit/consumer.txt\", \"r\")\n",
    "keys = f.read()\n",
    "keys  = keys.split(',')\n",
    "#print(\"Consumer Keys are : \" + str(keys))\n",
    "CONSUMER_KEY = keys[0]\n",
    "CONSUMER_SECRET = keys[1]\n"
   ]
  },
  {
   "cell_type": "markdown",
   "metadata": {},
   "source": [
    "# PULLING DOWN THE DATA \n",
    "\n",
    "This is where the magic happens, api authentication is set up, tweepy library is imported for the work and a class allow us to pull live data. This is appended to array for processing later. \n",
    "\n",
    "If you want to change the parameters, edit the following line:  \n",
    "\n",
    "```\n",
    "stream.filter(track=[\"SexStrike\"],languages=[\"en\"])\n",
    "```\n",
    "\n",
    "*NOTE* -   this will just keep running until you force terminate, i haven't added in a terminate loop yet."
   ]
  },
  {
   "cell_type": "code",
   "execution_count": 4,
   "metadata": {},
   "outputs": [
    {
     "ename": "SystemExit",
     "evalue": "PROCESSING COMPLETE : 10000 tweets processed.",
     "output_type": "error",
     "traceback": [
      "An exception has occurred, use %tb to see the full traceback.\n",
      "\u001b[0;31mSystemExit\u001b[0m\u001b[0;31m:\u001b[0m PROCESSING COMPLETE : 10000 tweets processed.\n"
     ]
    },
    {
     "name": "stderr",
     "output_type": "stream",
     "text": [
      "/Users/adammcmurchie/anaconda/lib/python3.6/site-packages/IPython/core/interactiveshell.py:2889: UserWarning: To exit: use 'exit', 'quit', or Ctrl-D.\n",
      "  warn(\"To exit: use 'exit', 'quit', or Ctrl-D.\", stacklevel=1)\n"
     ]
    }
   ],
   "source": [
    "from ipywidgets import IntProgress\n",
    "from IPython.display import display\n",
    "from IPython.display import clear_output\n",
    "import time\n",
    "\n",
    "import sys\n",
    "# Import the necessary package to process data in JSON format\n",
    "try:\n",
    "    import json\n",
    "except ImportError:\n",
    "    import simplejson as json\n",
    "\n",
    "# Import the tweepy library\n",
    "import tweepy\n",
    "\n",
    "# Variables that contains the user credentials to access Twitter API \n",
    "# Captured earlier \n",
    "\n",
    "# Setup tweepy to authenticate with Twitter credentials:\n",
    "\n",
    "auth = tweepy.OAuthHandler(CONSUMER_KEY, CONSUMER_SECRET)\n",
    "auth.set_access_token(ACCESS_TOKEN, ACCESS_SECRET)\n",
    "\n",
    "# Create the api to connect to twitter with your creadentials\n",
    "api = tweepy.API(auth, wait_on_rate_limit=True, wait_on_rate_limit_notify=True, compression=True)\n",
    "\n",
    "status_array = []\n",
    "\n",
    "progress = 0\n",
    "max_count = 10000\n",
    "\n",
    "f = IntProgress(description='Processing:',min=0, max=max_count,) # instantiate the bar\n",
    "display(f) # display the bar\n",
    "\n",
    "\n",
    "\n",
    "class StreamListener(tweepy.StreamListener):\n",
    "    tweet_number=0   # class variable\n",
    "    \n",
    "\n",
    "\n",
    "    def on_status(self, status):\n",
    "        self.max_tweets=max_count # max number of tweets\n",
    "        self.tweet_number+=1   \n",
    "        f.value += 1 # signal to increment the progress bar\n",
    "        progress = (f.value/max_count) * 100\n",
    "        progress = format(progress, '.2f')\n",
    "        print('Progress: ' + str(progress) + \" %\")\n",
    "        clear_output(wait=True)\n",
    "        status_array.append(status._json)\n",
    "\n",
    "        if self.tweet_number>=self.max_tweets:\n",
    "            sys.exit('PROCESSING COMPLETE : '+str(self.max_tweets)+' tweets processed.')\n",
    "\n",
    "        \n",
    "    def on_error(self, status_code):\n",
    "        if status_code == 420:\n",
    "            return False\n",
    "\n",
    "stream_listener = StreamListener()\n",
    "stream = tweepy.Stream(auth=api.auth, listener=stream_listener)\n",
    "\n",
    "#print('Pulling down data.....')\n",
    "stream.filter(track=[\"Theresa May\"],languages=[\"en\"])\n"
   ]
  },
  {
   "cell_type": "code",
   "execution_count": 3,
   "metadata": {
    "scrolled": true
   },
   "outputs": [
    {
     "data": {
      "application/vnd.jupyter.widget-view+json": {
       "model_id": "41964a14c9e14e93adbe9a7c2ce17571"
      }
     },
     "metadata": {},
     "output_type": "display_data"
    },
    {
     "name": "stdout",
     "output_type": "stream",
     "text": [
      "Pulling down data.....\n"
     ]
    },
    {
     "ename": "KeyboardInterrupt",
     "evalue": "",
     "output_type": "error",
     "traceback": [
      "\u001b[0;31m---------------------------------------------------------------------------\u001b[0m",
      "\u001b[0;31mKeyboardInterrupt\u001b[0m                         Traceback (most recent call last)",
      "\u001b[0;32m<ipython-input-3-d7c599afc390>\u001b[0m in \u001b[0;36m<module>\u001b[0;34m()\u001b[0m\n\u001b[1;32m     53\u001b[0m \u001b[0;32mfor\u001b[0m \u001b[0mtweet\u001b[0m \u001b[0;32min\u001b[0m \u001b[0mtweets\u001b[0m\u001b[0;34m.\u001b[0m\u001b[0mitems\u001b[0m\u001b[0;34m(\u001b[0m\u001b[0mint\u001b[0m\u001b[0;34m(\u001b[0m\u001b[0mmax_count\u001b[0m\u001b[0;34m)\u001b[0m\u001b[0;34m)\u001b[0m\u001b[0;34m:\u001b[0m\u001b[0;34m\u001b[0m\u001b[0m\n\u001b[1;32m     54\u001b[0m     \u001b[0mf\u001b[0m\u001b[0;34m.\u001b[0m\u001b[0mvalue\u001b[0m\u001b[0;34m+=\u001b[0m\u001b[0;36m1\u001b[0m\u001b[0;34m\u001b[0m\u001b[0m\n\u001b[0;32m---> 55\u001b[0;31m     \u001b[0mtime\u001b[0m\u001b[0;34m.\u001b[0m\u001b[0msleep\u001b[0m\u001b[0;34m(\u001b[0m\u001b[0;36m.1\u001b[0m\u001b[0;34m)\u001b[0m\u001b[0;34m\u001b[0m\u001b[0m\n\u001b[0m\u001b[1;32m     56\u001b[0m     \u001b[0mstatus_array\u001b[0m\u001b[0;34m.\u001b[0m\u001b[0mappend\u001b[0m\u001b[0;34m(\u001b[0m\u001b[0mtweet\u001b[0m\u001b[0;34m.\u001b[0m\u001b[0m_json\u001b[0m\u001b[0;34m)\u001b[0m\u001b[0;34m\u001b[0m\u001b[0m\n\u001b[1;32m     57\u001b[0m \u001b[0;34m\u001b[0m\u001b[0m\n",
      "\u001b[0;31mKeyboardInterrupt\u001b[0m: "
     ]
    }
   ],
   "source": [
    "# HISTORICAL DATA SWITCHED OFF (IF YOU SWITCH ON, THEN SWITCH STREAM OFF ABOVE)\n",
    "\n",
    "\n",
    "\"\"\"\"\n",
    "\n",
    "from ipywidgets import IntProgress\n",
    "from IPython.display import display\n",
    "import time\n",
    "\n",
    "import sys\n",
    "# Import the necessary package to process data in JSON format\n",
    "try:\n",
    "    import json\n",
    "except ImportError:\n",
    "    import simplejson as json\n",
    "\n",
    "# Import the tweepy library\n",
    "import tweepy\n",
    "\n",
    "# Variables that contains the user credentials to access Twitter API \n",
    "# Captured earlier \n",
    "\n",
    "# Setup tweepy to authenticate with Twitter credentials:\n",
    "\n",
    "auth = tweepy.OAuthHandler(CONSUMER_KEY, CONSUMER_SECRET)\n",
    "auth.set_access_token(ACCESS_TOKEN, ACCESS_SECRET)\n",
    "\n",
    "# Create the api to connect to twitter with your creadentials\n",
    "api = tweepy.API(auth, wait_on_rate_limit=True, wait_on_rate_limit_notify=True, compression=True)\n",
    "\n",
    "\n",
    "\n",
    "\n",
    "\n",
    "\n",
    "\n",
    "\n",
    "\n",
    "status_array = []\n",
    "LOOP_COUNT = 0\n",
    "max_count = 1000\n",
    "\n",
    "\n",
    "# Search for 10 most recent tweets about \"Brexit\"\n",
    "tweets = tweepy.Cursor(api.search, q='Huawei', count=int(max_count))\n",
    "\n",
    "# TRACK PROGRESS\n",
    "f = IntProgress(min=0, max=max_count) # instantiate the bar\n",
    "display(f) # display the bar\n",
    "\n",
    "\n",
    "print('Pulling down data.....')                    \n",
    "for tweet in tweets.items(int(max_count)):\n",
    "    f.value+=1\n",
    "    time.sleep(.1)\n",
    "    status_array.append(tweet._json)\n",
    "\n",
    "\n",
    "\n",
    "print('Processing complete')\n",
    "\n"
   ]
  },
  {
   "cell_type": "markdown",
   "metadata": {},
   "source": [
    "# QUICK STREAM"
   ]
  },
  {
   "cell_type": "code",
   "execution_count": 5,
   "metadata": {},
   "outputs": [
    {
     "name": "stdout",
     "output_type": "stream",
     "text": [
      "Number of records\n",
      "10000\n",
      "\n",
      "The data keys are : \n",
      "dict_keys(['created_at', 'id', 'id_str', 'text', 'source', 'truncated', 'in_reply_to_status_id', 'in_reply_to_status_id_str', 'in_reply_to_user_id', 'in_reply_to_user_id_str', 'in_reply_to_screen_name', 'user', 'geo', 'coordinates', 'place', 'contributors', 'retweeted_status', 'is_quote_status', 'quote_count', 'reply_count', 'retweet_count', 'favorite_count', 'entities', 'favorited', 'retweeted', 'filter_level', 'lang', 'timestamp_ms'])\n",
      "\n"
     ]
    }
   ],
   "source": [
    "print('Number of records')\n",
    "print(len(status_array))\n",
    "print('')\n",
    "print('The data keys are : ')\n",
    "print(status_array[0].keys())\n",
    "print('')\n",
    "#print('An example element looks like: ')\n",
    "#print(status_array[0])"
   ]
  },
  {
   "cell_type": "markdown",
   "metadata": {},
   "source": [
    "# PRINT AND SAVE DATA\n",
    "\n",
    "This section allows me to pull the recently mined data into a file in raw format incase i need it later."
   ]
  },
  {
   "cell_type": "code",
   "execution_count": null,
   "metadata": {
    "collapsed": true
   },
   "outputs": [],
   "source": [
    "currentDT = datetime.datetime.now()\n",
    "filename = \"data/streamout-\" + str(currentDT) + \".txt\"\n",
    "\n",
    "print(filename)\n",
    "\n",
    "with open(filename, 'w') as f:\n",
    "    for item in status_array:\n",
    "        f.write(\"%s\\n\" % item)\n",
    "f.close()"
   ]
  },
  {
   "cell_type": "markdown",
   "metadata": {},
   "source": [
    "# REPORT GENERATION"
   ]
  },
  {
   "cell_type": "code",
   "execution_count": null,
   "metadata": {
    "collapsed": true,
    "scrolled": true
   },
   "outputs": [],
   "source": [
    "# WRITE OUT FULL REPORT\n",
    "reportfile = \"reports/printout-\"+ str(currentDT) + \".txt\"\n",
    "descriptionfile = \"data/description/printout-\"+ str(currentDT) + \".txt\"\n",
    "tweetfile = \"data/tweet/printout-\"+ str(currentDT) + \".txt\"\n",
    "\n",
    "REPORTCOUNT = 0\n",
    "with open(reportfile, 'w') as f:\n",
    "    for y in range(0, len(status_array)):\n",
    "        REPORTCOUNT = REPORTCOUNT + 1\n",
    "        f.write('************************************************************\\n')\n",
    "        f.write(status_array[y]['text'])\n",
    "        f.write('------------------------------\\n')\n",
    "        f.write(status_array[y]['created_at'])\n",
    "        f.write('------------------------------\\n')\n",
    "        f.write(status_array[y]['user']['name'])\n",
    "        f.write('------------------------------\\n')\n",
    "        f.write(str(status_array[y]['user']['location']))\n",
    "        f.write('------------------------------\\n')\n",
    "        f.write(str(status_array[y]['user']['description']))\n",
    "        f.write('--------------REPLY COUNT----------------\\n|')\n",
    "        f.write(str(status_array[y]['reply_count']))\n",
    "        f.write('--------------RETWEET COUNT----------------\\n')\n",
    "        f.write(str(status_array[y]['retweet_count']))\n",
    "        f.write('--------------RETWEETED?----------------\\n')\n",
    "        f.write(str(status_array[y]['retweeted']))\n",
    "        f.write('--------------RETWEET COUNT----------------\\n')\n",
    "        f.write(str(status_array[y]['retweet_count']))\n",
    "        f.write('--------------FAVOURITED----------------\\n')\n",
    "        f.write(str(status_array[y]['favorited']))\n",
    "        f.write('--------------FAVOURITE COUNT----------------\\n')\n",
    "        f.write(str(status_array[y]['favorite_count']))\n",
    "        f.write('\\n')\n",
    "        f.write('\\n')\n",
    "    f.write('number of records are : ')\n",
    "    f.write(str(REPORTCOUNT))\n",
    "        \n",
    "f.close()\n",
    "    \n",
    "    \n",
    "# WRITE OUT ONLY DESCRIPTION\n",
    "    \n",
    "REPORTCOUNT = 0\n",
    "with open(descriptionfile, 'w') as f:\n",
    "    for y in range(0, len(status_array)):\n",
    "        REPORTCOUNT = REPORTCOUNT + 1\n",
    "        f.write('************************************************************\\n')\n",
    "        f.write(str(status_array[y]['user']['description']))\n",
    "        f.write('\\n')\n",
    "    f.write('number of records are : ')\n",
    "    f.write(str(REPORTCOUNT))\n",
    "        \n",
    "f.close()\n",
    "    \n",
    "\n",
    "# WRITE OUT ONLY TWEET\n",
    "    \n",
    "REPORTCOUNT = 0\n",
    "with open(tweetfile, 'w') as f:\n",
    "    for y in range(0, len(status_array)):\n",
    "        REPORTCOUNT = REPORTCOUNT + 1\n",
    "        f.write('************************************************************\\n')\n",
    "        f.write(status_array[y]['text'])\n",
    "        f.write('\\n')\n",
    "    f.write('number of records are : ')\n",
    "    f.write(str(REPORTCOUNT))\n",
    "        \n",
    "f.close()\n",
    "\n",
    "    \n",
    "    \n",
    "    \n",
    "    \n",
    "    \n",
    "print('=========================SAMPLE OUTPUT================================')\n",
    "print('************************************************************')\n",
    "print(status_array[0]['text'])\n",
    "print('------------------------------')\n",
    "print(status_array[0]['created_at'])\n",
    "print('------------------------------')\n",
    "print(status_array[0]['user']['name'])\n",
    "print('------------------------------')\n",
    "print(status_array[0]['user']['location'])\n",
    "print('------------------------------')\n",
    "print(status_array[0]['user']['description'])\n",
    "print('--------------REPLY COUNT----------------')\n",
    "print(status_array[0]['reply_count'])\n",
    "print('--------------RETWEET COUNT----------------')\n",
    "print(status_array[0]['retweet_count'])\n",
    "print('--------------RETWEETED?----------------') \n",
    "print(status_array[0]['retweeted'])\n",
    "print('--------------RETWEET COUNT----------------')\n",
    "print(status_array[0]['retweet_count'])\n",
    "print('--------------FAVOURITED----------------')\n",
    "print(status_array[0]['favorited'])\n",
    "print('--------------FAVOURITE COUNT----------------')\n",
    "print(status_array[0]['favorite_count'])\n",
    "\n"
   ]
  },
  {
   "cell_type": "markdown",
   "metadata": {},
   "source": [
    "## TWEET NUMERICAL ANALYSIS\n",
    "\n",
    "Change the below values to see how they rank in tweet frequency,  **YOU DON'T NEED TO WORRY ABOUT CASE SENSITIVITY IN WORDING**, that is covered in the code.\n",
    "\n",
    "```\n",
    "WORDONE=''\n",
    "WORDTWO=''\n",
    "WORDTHREE=''\n",
    "```"
   ]
  },
  {
   "cell_type": "code",
   "execution_count": 24,
   "metadata": {
    "scrolled": false
   },
   "outputs": [
    {
     "name": "stdout",
     "output_type": "stream",
     "text": [
      "Total count of words - GRENFELL :1805\n",
      "Total count of words - WINDRUSH :653\n",
      "Total count of words - BORIS :488\n",
      "Total count of words - GOVE :341\n",
      "Total count of words - REFERENDUM :23\n",
      "Total count of words - GREENS :0\n",
      "Total count of words - REFERENDUM :23\n",
      "Total count of words - LEAVE :260\n",
      "Total count of words - ANDREA :3\n",
      "Total count of words - LEADSOM :3\n",
      "Total Number of Records: 10000\n"
     ]
    }
   ],
   "source": [
    "WORDONE='grenfell'\n",
    "WORDTWO='windrush'\n",
    "WORDTHREE='boris'\n",
    "WORDFOUR = 'gove'\n",
    "WORDFIVE = 'referendum'\n",
    "WORDSIX = 'greens'\n",
    "WORDSEVEN = 'referendum'\n",
    "WORDEIGHT = 'leave'\n",
    "WORDNINE = 'Andrea'\n",
    "WORDTEN = 'leadsom'\n",
    "\n",
    "\n",
    "\n",
    "\n",
    "WORDONE= WORDONE.upper()\n",
    "WORDTWO= WORDTWO.upper()\n",
    "WORDTHREE=WORDTHREE.upper()\n",
    "WORDFOUR = WORDFOUR.upper()\n",
    "WORDFIVE = WORDFIVE.upper()\n",
    "WORDSIX = WORDSIX.upper()\n",
    "WORDSEVEN = WORDSEVEN.upper()\n",
    "WORDEIGHT = WORDEIGHT.upper()\n",
    "WORDNINE = WORDNINE.upper()\n",
    "WORDTEN = WORDTEN.upper()\n",
    "\n",
    "\n",
    "\n",
    "\n",
    "\n",
    "\n",
    "WORDONE_COUNT = 0\n",
    "WORDTWO_COUNT = 0 \n",
    "WORDTHREE_COUNT = 0 \n",
    "WORDFOUR_COUNT = 0\n",
    "WORDFIVE_COUNT = 0\n",
    "WORDSIX_COUNT = 0\n",
    "WORDSEVEN_COUNT= 0\n",
    "WORDEIGHT_COUNT= 0\n",
    "WORDNINE_COUNT = 0\n",
    "WORDTEN_COUNT = 0\n",
    "\n",
    "\n",
    "linecount = 0\n",
    "APPENDED_TEXT = \"\"\n",
    "\n",
    "\n",
    "\n",
    "for x in range(0, len(status_array)):\n",
    "    linecount = linecount + 1\n",
    "    text = str(status_array[x]['text']).upper()\n",
    "    APPENDED_TEXT = APPENDED_TEXT + str(text)\n",
    "    \n",
    "    \n",
    "    if str(text).count(str(WORDONE)) >= 1:\n",
    "        WORDONE_COUNT = WORDONE_COUNT + 1\n",
    "    if str(text).count(str(WORDTWO)) >= 1:\n",
    "        WORDTWO_COUNT = WORDTWO_COUNT + 1\n",
    "    if str(text).count(str(WORDTHREE)) >= 1:\n",
    "        WORDTHREE_COUNT = WORDTHREE_COUNT + 1\n",
    "    if str(text).count(str(WORDFOUR)) >= 1:\n",
    "        WORDFOUR_COUNT = WORDFOUR_COUNT + 1\n",
    "    if str(text).count(str(WORDFIVE)) >= 1:\n",
    "        WORDFIVE_COUNT = WORDFIVE_COUNT + 1\n",
    "    if str(text).count(str(WORDSIX)) >= 1:\n",
    "        WORDSIX_COUNT = WORDSIX_COUNT + 1\n",
    "    if str(text).count(str(WORDSEVEN)) >= 1:\n",
    "        WORDSEVEN_COUNT = WORDSEVEN_COUNT + 1\n",
    "    if str(text).count(str(WORDEIGHT)) >= 1:\n",
    "        WORDEIGHT_COUNT = WORDEIGHT_COUNT + 1\n",
    "    if str(text).count(str(WORDNINE)) >= 1:\n",
    "        WORDNINE_COUNT = WORDNINE_COUNT + 1\n",
    "    if str(text).count(str(WORDTEN)) >= 1:\n",
    "        WORDTEN_COUNT = WORDTEN_COUNT + 1\n",
    "\n",
    "      \n",
    "      \n",
    "        \n",
    "print('Total count of words - ' + str(WORDONE) + ' :' + str(WORDONE_COUNT))\n",
    "print('Total count of words - ' + str(WORDTWO) + ' :' + str(WORDTWO_COUNT))\n",
    "print('Total count of words - ' + str(WORDTHREE) + ' :' + str(WORDTHREE_COUNT))\n",
    "print('Total count of words - ' + str(WORDFOUR) + ' :' + str(WORDFOUR_COUNT))\n",
    "print('Total count of words - ' + str(WORDFIVE) + ' :' + str(WORDFIVE_COUNT))\n",
    "print('Total count of words - ' + str(WORDSIX) + ' :' + str(WORDSIX_COUNT))\n",
    "print('Total count of words - ' + str(WORDSEVEN) + ' :' + str(WORDSEVEN_COUNT))\n",
    "print('Total count of words - ' + str(WORDEIGHT) + ' :' + str(WORDEIGHT_COUNT))\n",
    "print('Total count of words - ' + str(WORDNINE) + ' :' + str(WORDNINE_COUNT))\n",
    "print('Total count of words - ' + str(WORDTEN) + ' :' + str(WORDTEN_COUNT))\n",
    "print('Total Number of Records: ' + str(linecount)) \n",
    "\n",
    "\n",
    "APPENDED_TEXT = APPENDED_TEXT.replace('#', '')\n",
    "APPENDED_TEXT = APPENDED_TEXT.replace('.', '')\n",
    "APPENDED_TEXT = APPENDED_TEXT.replace(',', '')\n",
    "APPENDED_TEXT = APPENDED_TEXT.replace(',', '')"
   ]
  },
  {
   "cell_type": "code",
   "execution_count": 25,
   "metadata": {},
   "outputs": [
    {
     "data": {
      "text/plain": [
       "1191699"
      ]
     },
     "execution_count": 25,
     "metadata": {},
     "output_type": "execute_result"
    }
   ],
   "source": [
    "len(APPENDED_TEXT)"
   ]
  },
  {
   "cell_type": "code",
   "execution_count": 26,
   "metadata": {},
   "outputs": [
    {
     "name": "stdout",
     "output_type": "stream",
     "text": [
      "OrderedDict([('THERESA', 7644), ('MAY', 6454), ('GRENFELL', 1790), ('PRIME', 1187), ('MINISTER', 1017), (\"MAY'S\", 890), ('TEARS', 860), ('RESIGNATION', 791), ('PEOPLE', 761), ('STATEMENT', 722), ('NECESSARY', 701), ('UNION', 696), ('FIRE', 682), ('@LADYHAJA:', 677), ('BRIGADES', 675), ('LEGACY', 648), ('WINDRUSH', 643), ('JOB', 640), ('UK', 621), ('CRYING', 604)])\n"
     ]
    }
   ],
   "source": [
    "from collections import Counter, OrderedDict\n",
    "DISC = APPENDED_TEXT.split()\n",
    "x = Counter(DISC)\n",
    "del x['⠀'],x['AND'],x['THE'],x['OF'],x['TO'],x['A'],x['IN'],x['&'],x['MY'],x['FOR'],x['I'],x['NOT'],x['IS'],x['ARE']\n",
    "del x['WITH'],x['ALL'],x['ON'],x['-'],x['YOU'],x['BY'],x['IT'],x['NO'],x['OR'],x['OWN'],x['THAT'],x['AT'],x['BE'],x['|'],x['WILL'],\n",
    "del x['BUT'],x['AN'],x['ABOUT'],x['AS'],x['FROM'],x['WHO'],x['ME'],x['WE'],x['HAVE'],x['OUR'],x['AM'],x['LIKE'],x['JUST']\n",
    "del x['THIS'],x['THEY'],x['IF'],x['HAS'],x['&AMP'],x['HAS'],x['CAN'],x['NOW'],x['SO'],x['ONLY'],x['WAS'],x['WHAT'],x['THEIR'],x['YOUR'],x['WOULD']\n",
    "del x['DO'],x['&AMP;'],x['ONE'],x['WANT'],x['BEEN'],x['THEM'],x['MORE'],x['TODAY'],x['GET'],x['WHEN'],x['COMMENT'],x['HER'],x['SHE'],x['FURTHER']\n",
    "\n",
    "\n",
    "top_tweets = OrderedDict(x.most_common(20))\n",
    "print(top_tweets)\n"
   ]
  },
  {
   "cell_type": "code",
   "execution_count": 29,
   "metadata": {},
   "outputs": [
    {
     "data": {
      "image/png": "[encoded data removed]",
      "text/plain": [
       "<matplotlib.figure.Figure at 0x119c2b160>"
      ]
     },
     "metadata": {},
     "output_type": "display_data"
    }
   ],
   "source": [
    "import matplotlib.pyplot as plt\n",
    "\n",
    "E = top_tweets\n",
    "one = (0.1, 0.1, 0.1, 0.1)\n",
    "two = (0.1, 0.1, 0.1, 0.1)\n",
    "three = 'red'\n",
    "four= (0.1, 0.1, 0.1, 0.1)\n",
    "five= (0.1, 0.1, 0.1, 0.1)\n",
    "six= (0.1, 0.1, 0.1, 0.1)\n",
    "seven= 'red'\n",
    "eight= (0.1, 0.1, 0.1, 0.1)\n",
    "nine= (0.1, 0.1, 0.1, 0.1)\n",
    "ten= (0.1, 0.1, 0.1, 0.1)\n",
    "eleven= (0.1, 0.1, 0.1, 0.1)\n",
    "twelve= (0.1, 0.1, 0.1, 0.1)\n",
    "thirteen= (0.1, 0.1, 0.1, 0.1)\n",
    "fourteen= (0.1, 0.1, 0.1, 0.1)\n",
    "fithteen= (0.1, 0.1, 0.1, 0.1)\n",
    "sixteen= (0.1, 0.1, 0.1, 0.1)\n",
    "seventeen= 'red'\n",
    "eighteen= (0.1, 0.1, 0.1, 0.1)\n",
    "nineteen= (0.1, 0.1, 0.1, 0.1)\n",
    "twenty= (0.1, 0.1, 0.1, 0.1)\n",
    "\n",
    "\n",
    "\n",
    "color_last = [one, two,three,four,five,six,seven,eight,nine,ten,eleven,twelve,thirteen,fourteen,fithteen,sixteen,seventeen,eighteen,nineteen,twenty]\n",
    "color = (0.1, 0.1, 0.1, 0.1)\n",
    "plt.bar(range(len(E)), list(E.values()), align='center', color=color_last,  edgecolor='blue')\n",
    "\n",
    "plt.xticks(range(len(E)), list(E.keys()), rotation='vertical')\n",
    "plt.title(\"Most Frequently Tweeted Words\", fontsize=30)\n",
    "plt.ylabel('Number of Occurrences (thousands)', fontsize=18)\n",
    "plt.xlabel('Tweeted term by Frequency', fontsize=18)\n",
    "plt.rcParams[\"figure.figsize\"] = (20,10)\n",
    "plt.savefig(\"TWEETS\", bbox_inches=\"tight\")\n",
    "plt.show()\n"
   ]
  },
  {
   "cell_type": "markdown",
   "metadata": {},
   "source": [
    "# TWEET COMPARISON"
   ]
  },
  {
   "cell_type": "code",
   "execution_count": 30,
   "metadata": {},
   "outputs": [
    {
     "data": {
      "image/png": "[encoded data removed]",
      "text/plain": [
       "<matplotlib.figure.Figure at 0x11f971630>"
      ]
     },
     "metadata": {},
     "output_type": "display_data"
    }
   ],
   "source": [
    "import matplotlib.pyplot as plt\n",
    "B = {str(WORDONE):int(WORDONE_COUNT), \n",
    "     str(WORDTWO):int(WORDTWO_COUNT),\n",
    "    str(WORDTHREE):int(WORDTHREE_COUNT),\n",
    "    str(WORDFOUR):int(WORDFOUR_COUNT),\n",
    "    str(WORDFIVE):int(WORDFIVE_COUNT)}\n",
    "\n",
    "\n",
    "\n",
    "plt.bar(range(len(B)), list(B.values()), align='center', alpha=0.5, color=('#ff8c66'),  edgecolor='blue')\n",
    "\n",
    "plt.xticks(range(len(B)), list(B.keys()), rotation='horizontal')\n",
    "plt.title(\"Tweet Popular Tweet Word Comparison\", fontsize=30)\n",
    "plt.ylabel('Number of Occurrences (thousands)', fontsize=18)\n",
    "#plt.xlabel('These are the words in which Tweeters describe themselves', horizontalalignment='left', position=(0,25), fontsize=18)\n",
    "plt.rcParams[\"figure.figsize\"] = (20,10)\n",
    "#plt.savefig(\"BESPOKE\", bbox_inches=\"tight\")\n",
    "plt.savefig(\"COMPARE\")\n",
    "plt.show()"
   ]
  },
  {
   "cell_type": "markdown",
   "metadata": {},
   "source": [
    "## USER DESCRIPTION NUMERICAL ANALYSIS\n",
    "\n",
    "Change the below values to see how they rank in tweet frequency **YOU DON'T NEED TO WORRY ABOUT CASE SENSITIVITY IN WORDING**, that is covered in the code.\n",
    "\n",
    "```\n",
    "WORDONE=''\n",
    "WORDTWO=''\n",
    "WORDTHREE=''\n",
    "```"
   ]
  },
  {
   "cell_type": "code",
   "execution_count": 31,
   "metadata": {},
   "outputs": [
    {
     "name": "stdout",
     "output_type": "stream",
     "text": [
      "Total count of words - TORY :196\n",
      "Total count of words - LABOUR :178\n",
      "Total count of words - LIBDEM :10\n",
      "Total count of words - UKIP :16\n",
      "Total count of words - GREEN PARTY :1\n",
      "Total count of words - GREENS :2\n",
      "Total count of words - REFERENDUM :4\n",
      "Total count of words - LEAVE :39\n",
      "Total count of words - REMAIN :69\n",
      "Total count of words - BREXIT :288\n",
      "Total Number of Records: 10000\n"
     ]
    }
   ],
   "source": [
    "\n",
    "WORDONE='tory'\n",
    "WORDTWO='labour'\n",
    "WORDTHREE='libdem'\n",
    "WORDFOUR = 'ukip'\n",
    "WORDFIVE = 'Green party'\n",
    "WORDSIX = 'greens'\n",
    "WORDSEVEN = 'referendum'\n",
    "WORDEIGHT = 'leave'\n",
    "WORDNINE = 'remain'\n",
    "WORDTEN = 'brexit'\n",
    "\n",
    "\n",
    "\n",
    "\n",
    "WORDONE= WORDONE.upper()\n",
    "WORDTWO= WORDTWO.upper()\n",
    "WORDTHREE=WORDTHREE.upper()\n",
    "WORDFOUR = WORDFOUR.upper()\n",
    "WORDFIVE = WORDFIVE.upper()\n",
    "WORDSIX = WORDSIX.upper()\n",
    "WORDSEVEN = WORDSEVEN.upper()\n",
    "WORDEIGHT = WORDEIGHT.upper()\n",
    "WORDNINE = WORDNINE.upper()\n",
    "WORDTEN = WORDTEN.upper()\n",
    "\n",
    "\n",
    "\n",
    "\n",
    "\n",
    "\n",
    "WORDONE_COUNT = 0\n",
    "WORDTWO_COUNT = 0 \n",
    "WORDTHREE_COUNT = 0 \n",
    "WORDFOUR_COUNT = 0\n",
    "WORDFIVE_COUNT = 0\n",
    "WORDSIX_COUNT = 0\n",
    "WORDSEVEN_COUNT= 0\n",
    "WORDEIGHT_COUNT= 0\n",
    "WORDNINE_COUNT = 0\n",
    "WORDTEN_COUNT = 0\n",
    "\n",
    "\n",
    "linecount = 0\n",
    "APPENDED_DESCRIPTION = \"\"\n",
    "\n",
    "\n",
    "\n",
    "for x in range(0, len(status_array)):\n",
    "    linecount = linecount + 1\n",
    "    description = str(status_array[x]['user']['description']).upper()\n",
    "    APPENDED_DESCRIPTION = APPENDED_DESCRIPTION + str(description)\n",
    "    \n",
    "    \n",
    "    if str(description).count(str(WORDONE)) >= 1:\n",
    "        WORDONE_COUNT = WORDONE_COUNT + 1\n",
    "    if str(description).count(str(WORDTWO)) >= 1:\n",
    "        WORDTWO_COUNT = WORDTWO_COUNT + 1\n",
    "    if str(description).count(str(WORDTHREE)) >= 1:\n",
    "        WORDTHREE_COUNT = WORDTHREE_COUNT + 1\n",
    "    if str(description).count(str(WORDFOUR)) >= 1:\n",
    "        WORDFOUR_COUNT = WORDFOUR_COUNT + 1\n",
    "    if str(description).count(str(WORDFIVE)) >= 1:\n",
    "        WORDFIVE_COUNT = WORDFIVE_COUNT + 1\n",
    "    if str(description).count(str(WORDSIX)) >= 1:\n",
    "        WORDSIX_COUNT = WORDSIX_COUNT + 1\n",
    "    if str(description).count(str(WORDSEVEN)) >= 1:\n",
    "        WORDSEVEN_COUNT = WORDSEVEN_COUNT + 1\n",
    "    if str(description).count(str(WORDEIGHT)) >= 1:\n",
    "        WORDEIGHT_COUNT = WORDEIGHT_COUNT + 1\n",
    "    if str(description).count(str(WORDNINE)) >= 1:\n",
    "        WORDNINE_COUNT = WORDNINE_COUNT + 1\n",
    "    if str(description).count(str(WORDTEN)) >= 1:\n",
    "        WORDTEN_COUNT = WORDTEN_COUNT + 1\n",
    "\n",
    "      \n",
    "      \n",
    "        \n",
    "print('Total count of words - ' + str(WORDONE) + ' :' + str(WORDONE_COUNT))\n",
    "print('Total count of words - ' + str(WORDTWO) + ' :' + str(WORDTWO_COUNT))\n",
    "print('Total count of words - ' + str(WORDTHREE) + ' :' + str(WORDTHREE_COUNT))\n",
    "print('Total count of words - ' + str(WORDFOUR) + ' :' + str(WORDFOUR_COUNT))\n",
    "print('Total count of words - ' + str(WORDFIVE) + ' :' + str(WORDFIVE_COUNT))\n",
    "print('Total count of words - ' + str(WORDSIX) + ' :' + str(WORDSIX_COUNT))\n",
    "print('Total count of words - ' + str(WORDSEVEN) + ' :' + str(WORDSEVEN_COUNT))\n",
    "print('Total count of words - ' + str(WORDEIGHT) + ' :' + str(WORDEIGHT_COUNT))\n",
    "print('Total count of words - ' + str(WORDNINE) + ' :' + str(WORDNINE_COUNT))\n",
    "print('Total count of words - ' + str(WORDTEN) + ' :' + str(WORDTEN_COUNT))\n",
    "print('Total Number of Records: ' + str(linecount)) \n",
    "\n",
    "\n",
    "APPENDED_DESCRIPTION = APPENDED_DESCRIPTION.replace('#', '')\n",
    "APPENDED_DESCRIPTION = APPENDED_DESCRIPTION.replace('.', '')\n",
    "APPENDED_DESCRIPTION = APPENDED_DESCRIPTION.replace(',', '')\n",
    "APPENDED_DESCRIPTION = APPENDED_DESCRIPTION.replace(',', '')"
   ]
  },
  {
   "cell_type": "markdown",
   "metadata": {},
   "source": [
    "## BESPOKE VISUALIZATION"
   ]
  },
  {
   "cell_type": "code",
   "execution_count": 32,
   "metadata": {},
   "outputs": [
    {
     "data": {
      "image/png": "[encoded data removed]",
      "text/plain": [
       "<matplotlib.figure.Figure at 0x119dbb630>"
      ]
     },
     "metadata": {},
     "output_type": "display_data"
    }
   ],
   "source": [
    "import matplotlib.pyplot as plt\n",
    "B = {str(WORDONE):int(WORDONE_COUNT), \n",
    "     str(WORDTWO):int(WORDTWO_COUNT),\n",
    "    str(WORDTHREE):int(WORDTHREE_COUNT),\n",
    "    str(WORDFOUR):int(WORDFOUR_COUNT),\n",
    "    str(WORDFIVE):int(WORDFIVE_COUNT)}\n",
    "\n",
    "\n",
    "\n",
    "plt.bar(range(len(B)), list(B.values()), align='center', alpha=0.5, color=('#ff8c66'),  edgecolor='blue')\n",
    "\n",
    "plt.xticks(range(len(B)), list(B.keys()), rotation='horizontal')\n",
    "plt.title(\"Tweeters Bio - Most popular Self Description\", fontsize=30)\n",
    "plt.ylabel('Number of Occurrences (thousands)', fontsize=18)\n",
    "#plt.xlabel('These are the words in which Tweeters describe themselves', horizontalalignment='left', position=(0,25), fontsize=18)\n",
    "plt.rcParams[\"figure.figsize\"] = (20,10)\n",
    "#plt.savefig(\"BESPOKE\", bbox_inches=\"tight\")\n",
    "plt.savefig(\"COMPARE\")\n",
    "plt.show()"
   ]
  },
  {
   "cell_type": "code",
   "execution_count": 35,
   "metadata": {
    "scrolled": true
   },
   "outputs": [
    {
     "name": "stdout",
     "output_type": "stream",
     "text": [
      "OrderedDict([('LOVE', 344), ('VIEWS', 256), ('FAN', 248), ('POLITICS', 210), ('NEWS', 198), ('LIFE', 195), ('MUSIC', 193), ('PROUD', 172), ('LOVER', 166), ('MAGA', 166), ('WRITER', 162), ('UP', 159), ('BREXIT', 148), ('TIME', 143), ('WORLD', 137), ('MEMBER', 137), ('PEOPLE', 128), ('HERE', 126), ('THINGS', 126), ('TWEETS', 123)])\n"
     ]
    }
   ],
   "source": [
    "from collections import Counter, OrderedDict\n",
    "DISC = APPENDED_DESCRIPTION.split()\n",
    "x = Counter(DISC)\n",
    "del x['⠀'],x['AND'],x['THE'],x['OF'],x['TO'],x['A'],x['IN'],x['&'],x['MY'],x['FOR'],x['I'],x['NOT'],x['IS'],x['ARE']\n",
    "del x['WITH'],x['ALL'],x['ON'],x['-'],x['YOU'],x['BY'],x['IT'],x['NO'],x['OR'],x['OWN'],x['THAT'],x['AT'],x['BE'],x['|'],x['WILL'],\n",
    "del x['BUT'],x['AN'],x['ABOUT'],x['AS'],x['FROM'],x['WHO'],x['ME'],x['WE'],x['HAVE'],x['OUR'],x['AM'],x['LIKE'],x['JUST']\n",
    "del x['THIS'],x['THEY'],x['IF'],x['HAS'],x['&AMP'],x['HAS'],x['CAN'],x['NOW'],x['SO'],x['ONLY'],x['WAS'],x['WHAT'],x['THEIR'],x['YOUR'],x['WOULD']\n",
    "del x['DO'],x['&AMP;'],x['ONE'],x['WANT'],x['BEEN'],x['THEM'],x['MORE'],x['/'],x['•'],x[\"I'M\"],x[''],x['']\n",
    "\n",
    "top_bio_desc = OrderedDict(x.most_common(20))\n",
    "print(top_bio_desc)\n"
   ]
  },
  {
   "cell_type": "code",
   "execution_count": 37,
   "metadata": {},
   "outputs": [
    {
     "data": {
      "image/png": "[encoded data removed]",
      "text/plain": [
       "<matplotlib.figure.Figure at 0x106366780>"
      ]
     },
     "metadata": {},
     "output_type": "display_data"
    }
   ],
   "source": [
    "import matplotlib.pyplot as plt\n",
    "\n",
    "D = top_bio_desc\n",
    "\n",
    "plt.bar(range(len(D)), list(D.values()), align='center', color=(0.1, 0.5, 1, 0.1),  edgecolor='blue')\n",
    "\n",
    "plt.xticks(range(len(D)), list(D.keys()), rotation='vertical')\n",
    "plt.title(\"Tweeters Bio - Most popular Self Description\", fontsize=30)\n",
    "plt.ylabel('Number of Occurrences (thousands)', fontsize=18)\n",
    "plt.xlabel('These are the words in which Tweeters describe themselves', horizontalalignment='left', position=(0,25), fontsize=18)\n",
    "plt.rcParams[\"figure.figsize\"] = (20,10)\n",
    "plt.savefig(\"BIO\", bbox_inches=\"tight\")\n",
    "plt.show()"
   ]
  },
  {
   "cell_type": "markdown",
   "metadata": {
    "collapsed": true
   },
   "source": [
    "# SENTIMENT ANALYSIS \n",
    "\n",
    "The sentiment property returns a named tuple of the form Sentiment (polarity, subjectivity). The polarity score is a float within the range [-1.0, 1.0]. The subjectivity is a float within the range [0.0, 1.0] where 0.0 is very objective and 1.0 is very subjective.\n",
    "\n",
    "# Now the Theory\n",
    "Thanks to Siraj Raval and freecode camp for the sample here\n",
    "\n",
    "TextBlob\n",
    "TextBlob is a Python (2 and 3) library for processing textual data. It provides a simple API for diving into common natural language processing (NLP) tasks such as part-of-speech tagging, noun phrase extraction, sentiment analysis, classification, translation, and more.\n",
    "\n",
    "A textblob can be created in the following way (example, and not part of the original code):\n",
    "\n",
    "example = TextBlob(\"Python is a high-level, general-purpose programming language.\")\n",
    "And tokenization can be performed by the following methods:\n",
    "words: returns the words of text\n",
    "\n",
    "usage:\n",
    "\n",
    "example.words\n",
    "sentences: returns the sentences of text\n",
    "\n",
    "usage:\n",
    "\n",
    "example.sentences\n"
   ]
  },
  {
   "cell_type": "code",
   "execution_count": 40,
   "metadata": {
    "collapsed": true
   },
   "outputs": [],
   "source": [
    "from textblob import TextBlob\n",
    "import tweepy\n"
   ]
  },
  {
   "cell_type": "code",
   "execution_count": 41,
   "metadata": {
    "collapsed": true
   },
   "outputs": [],
   "source": [
    "auth = tweepy.OAuthHandler(CONSUMER_KEY, CONSUMER_SECRET)\n",
    "auth.set_access_token(ACCESS_TOKEN, ACCESS_SECRET)\n",
    "api = tweepy.API(auth)"
   ]
  },
  {
   "cell_type": "code",
   "execution_count": 42,
   "metadata": {
    "collapsed": true
   },
   "outputs": [],
   "source": [
    "public_tweets = api.search('Theresa May')"
   ]
  },
  {
   "cell_type": "code",
   "execution_count": 43,
   "metadata": {},
   "outputs": [
    {
     "name": "stdout",
     "output_type": "stream",
     "text": [
      "RT @BBCPolitics: \"I feel desperately sorry for Theresa\" says former prime minister David Cameron, \"she's a dedicated public servant\"\n",
      "\n",
      "React…\n",
      "Sentiment(polarity=-0.16666666666666666, subjectivity=0.35555555555555557)\n",
      "Negatively subjective\n",
      "\n",
      "\n",
      "RT @lucianoghelfi: Theresa #May annuncia #dimissioni il 7 giugno: si rammarica di non aver attuato la #Brexit. Il fallimento non è solo suo…\n",
      "Sentiment(polarity=0.0, subjectivity=0.0)\n",
      "objective\n",
      "\n",
      "\n",
      "RT @ladyhaja: statement from the Fire Brigades Union on Theresa May and Grenfell. No further comment necessary. https://t.co/3a4yEAaqMJ\n",
      "Sentiment(polarity=0.0, subjectivity=0.75)\n",
      "objective\n",
      "\n",
      "\n",
      "RT @DamnCoffee: I edited Julia's Theme from #EastEnders over Theresa May's resignation speech... https://t.co/lQ9QxqOXVu\n",
      "Sentiment(polarity=0.0, subjectivity=0.0)\n",
      "objective\n",
      "\n",
      "\n",
      "RT @assi7realismus: UK set for new PM as Theresa May quits https://t.co/KnkNTh4aXp\n",
      "Sentiment(polarity=0.13636363636363635, subjectivity=0.45454545454545453)\n",
      "Subjective\n",
      "\n",
      "\n",
      "RT @simon_price01: The most staggering thing about Theresa May is her shamelessness and lack of self-awareness. Her speech claimed she made…\n",
      "Sentiment(polarity=0.5, subjectivity=0.5)\n",
      "Subjective\n",
      "\n",
      "\n",
      "RT @BBCBreaking: A tearful Theresa May says serving as prime minister has been \"the honour of my life\", saying she is proud to have been th…\n",
      "Sentiment(polarity=0.8, subjectivity=1.0)\n",
      "Subjective\n",
      "\n",
      "\n",
      "RT @PrisonPlanet: Theresa May's entire agenda from the start was to sabotage Brexit. The fact she's totally failed in embarrassing fashion…\n",
      "Sentiment(polarity=-0.25, subjectivity=0.4625)\n",
      "Negatively subjective\n",
      "\n",
      "\n",
      "RT @TheCurrentCBC: @mevansCBC The question is not why British Prime Minister Theresa May is resigning, but how she stayed in power so long,…\n",
      "Sentiment(polarity=0.0, subjectivity=0.0)\n",
      "objective\n",
      "\n",
      "\n",
      "RT @JolyonMaugham: We are horribly divided. HM Government, and her Opposition, have lost the consent of the electorate. The Withdrawal Agre…\n",
      "Sentiment(polarity=-1.0, subjectivity=1.0)\n",
      "Negatively subjective\n",
      "\n",
      "\n",
      "objective_tweets : 4\n",
      "subjective_tweets : 3\n",
      "negitively_subjective tweets: 3\n"
     ]
    }
   ],
   "source": [
    "objective_tweet=0\n",
    "subjective_tweet=0\n",
    "negitively_subjective=0\n",
    "for tweet in public_tweets:\n",
    "    print(tweet.text)\n",
    "    analysis = TextBlob(tweet.text)\n",
    "    print(analysis.sentiment)\n",
    "    if analysis.sentiment[0]>0:\n",
    "       subjective_tweet = subjective_tweet + 1\n",
    "       print('Subjective')\n",
    "    elif analysis.sentiment[0]<0:\n",
    "       negitively_subjective = negitively_subjective  + 1\n",
    "       print('Negatively subjective')\n",
    "    else:\n",
    "       objective_tweet = objective_tweet + 1\n",
    "       print('objective')\n",
    "    print('\\n')\n",
    "    \n",
    "print('objective_tweets : '+str(objective_tweet))\n",
    "print('subjective_tweets : '+str(subjective_tweet))\n",
    "print('negitively_subjective tweets: '+str(negitively_subjective))"
   ]
  },
  {
   "cell_type": "markdown",
   "metadata": {
    "collapsed": true
   },
   "source": [
    "# SAMPLE"
   ]
  },
  {
   "cell_type": "code",
   "execution_count": 44,
   "metadata": {},
   "outputs": [
    {
     "data": {
      "text/plain": [
       "'U.K. Prime Minister Theresa May announced her resignation earlier today. \\n\\n@swajcmanearle wrote about how Boris Joh… https://t.co/j8PXKFeIbO'"
      ]
     },
     "execution_count": 44,
     "metadata": {},
     "output_type": "execute_result"
    }
   ],
   "source": [
    "status_array[3]['text']"
   ]
  },
  {
   "cell_type": "code",
   "execution_count": 45,
   "metadata": {},
   "outputs": [
    {
     "name": "stdout",
     "output_type": "stream",
     "text": [
      "length of retweeted array: 10000\n",
      "most number of retweets: 0 at index 0\n",
      "The person who tweeted it was jack_molnar15\n",
      "Their screename is\" Jack Molnar\n",
      "There tweet was : \n",
      "RT @davidschneider: Theresa May guide to crying\n",
      "\n",
      "NO TEARS for\n",
      "Grenfell\n",
      "The Windrush generation\n",
      "Deaths and misery caused by the hostile envi…\n"
     ]
    }
   ],
   "source": [
    "retweet_array= []\n",
    "for current in range(0, len(status_array)):\n",
    "    retweet_array.append(status_array[current]['retweet_count'])\n",
    "    \n",
    "print('length of retweeted array: ' + str(len(retweet_array)))\n",
    "most_retweeted = max(retweet_array)\n",
    "print(\"most number of retweets: \" + str(most_retweeted) + \" at index \" + str(retweet_array.index(max(retweet_array))))\n",
    "print('The person who tweeted it was ' + str(status_array[retweet_array.index(max(retweet_array))]['user']['screen_name']))\n",
    "print('Their screename is\" ' + str(status_array[retweet_array.index(max(retweet_array))]['user']['name']))\n",
    "print('There tweet was : ')\n",
    "print(status_array[retweet_array.index(max(retweet_array))]['text'])"
   ]
  },
  {
   "cell_type": "code",
   "execution_count": 46,
   "metadata": {},
   "outputs": [
    {
     "data": {
      "text/plain": [
       "'RT @davidschneider: Theresa May guide to crying\\n\\nNO TEARS for\\nGrenfell\\nThe Windrush generation\\nDeaths and misery caused by the hostile envi…'"
      ]
     },
     "execution_count": 46,
     "metadata": {},
     "output_type": "execute_result"
    }
   ],
   "source": [
    "status_array[retweet_array.index(max(retweet_array))]['text']"
   ]
  },
  {
   "cell_type": "code",
   "execution_count": null,
   "metadata": {
    "collapsed": true
   },
   "outputs": [],
   "source": []
  },
  {
   "cell_type": "markdown",
   "metadata": {
    "collapsed": true
   },
   "source": [
    "# GOOGLE TRENDS "
   ]
  },
  {
   "cell_type": "code",
   "execution_count": 47,
   "metadata": {},
   "outputs": [
    {
     "data": {
      "image/png": "[encoded data removed]",
      "text/plain": [
       "<matplotlib.figure.Figure at 0x119e3be80>"
      ]
     },
     "metadata": {},
     "output_type": "display_data"
    }
   ],
   "source": [
    "import csv\n",
    "import matplotlib.pyplot as plt; plt.rcdefaults()\n",
    "import numpy as np\n",
    "import matplotlib.pyplot as plt\n",
    "\n",
    "with open('may.csv', newline='') as csvfile:\n",
    "    data = list(csv.reader(csvfile))\n",
    "google =data[3:]\n",
    "\n",
    "dates = []\n",
    "values = []\n",
    "for x in range(0, len(google)):\n",
    "    dates.append(str(google[x][0]))\n",
    "    values.append(google[x][1])\n",
    "    \n",
    "\n",
    "\n",
    "\n",
    "y_pos = np.arange(len(dates))\n",
    "#performance = values\n",
    "#plt.bar(y_pos, performance, align='center', alpha=0.5)\n",
    "#plt.xticks(y_pos, dates, rotation=\"vertical\")\n",
    "\n",
    "\n",
    "\n",
    "\n",
    "\n",
    "\n",
    "plt.plot(y_pos, values)\n",
    "\n",
    "plt.title('#Brexit Google Trend')\n",
    "plt.ylabel('Popularity as % of Max')\n",
    "#plt.xticks(y_pos, dates, rotation=\"vertical\")\n",
    "#plt.xticks(np.arange(min(y_pos), max(y_pos)+1, 1.0))\n",
    "plt.savefig(\"trend\", bbox_inches=\"tight\")\n",
    "plt.show()"
   ]
  },
  {
   "cell_type": "code",
   "execution_count": null,
   "metadata": {
    "collapsed": true
   },
   "outputs": [],
   "source": [
    "y_pos"
   ]
  },
  {
   "cell_type": "code",
   "execution_count": null,
   "metadata": {
    "collapsed": true
   },
   "outputs": [],
   "source": []
  }
 ],
 "metadata": {
  "kernelspec": {
   "display_name": "Python 3",
   "language": "python",
   "name": "python3"
  },
  "language_info": {
   "codemirror_mode": {
    "name": "ipython",
    "version": 3
   },
   "file_extension": ".py",
   "mimetype": "text/x-python",
   "name": "python",
   "nbconvert_exporter": "python",
   "pygments_lexer": "ipython3",
   "version": "3.6.1"
  }
 },
 "nbformat": 4,
 "nbformat_minor": 2
}
